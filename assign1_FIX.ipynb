{
 "cells": [
  {
   "cell_type": "markdown",
   "metadata": {},
   "source": [
    "# Assign 1 - Deep Learning\n",
    "Jonathan Menahem - 203772611 <br>\n",
    "Alon Mazri - 311503841"
   ]
  },
  {
   "cell_type": "code",
   "execution_count": 1,
   "metadata": {},
   "outputs": [],
   "source": [
    "import pandas as pd\n",
    "import matplotlib.pyplot as plt\n",
    "from pathlib import Path\n",
    "import imagesize\n",
    "import numpy as np\n",
    "import seaborn as sns\n",
    "from tensorflow import keras\n",
    "from keras import layers\n",
    "from sklearn.metrics import confusion_matrix\n",
    "import tensorflow.keras.layers.experimental.preprocessing as preprocessing"
   ]
  },
  {
   "cell_type": "code",
   "execution_count": 2,
   "metadata": {},
   "outputs": [
    {
     "name": "stdout",
     "output_type": "stream",
     "text": [
      "[PhysicalDevice(name='/physical_device:CPU:0', device_type='CPU'), PhysicalDevice(name='/physical_device:GPU:0', device_type='GPU')]\n"
     ]
    }
   ],
   "source": [
    "import tensorflow as tf\n",
    "\n",
    "print(tf.config.list_physical_devices())"
   ]
  },
  {
   "cell_type": "markdown",
   "metadata": {},
   "source": [
    "# Exploring The Data"
   ]
  },
  {
   "cell_type": "code",
   "execution_count": 3,
   "metadata": {},
   "outputs": [
    {
     "name": "stdout",
     "output_type": "stream",
     "text": [
      "Total Nr of Images in the dataset: 3883\n"
     ]
    },
    {
     "data": {
      "text/html": [
       "<div>\n",
       "<style scoped>\n",
       "    .dataframe tbody tr th:only-of-type {\n",
       "        vertical-align: middle;\n",
       "    }\n",
       "\n",
       "    .dataframe tbody tr th {\n",
       "        vertical-align: top;\n",
       "    }\n",
       "\n",
       "    .dataframe thead th {\n",
       "        text-align: right;\n",
       "    }\n",
       "</style>\n",
       "<table border=\"1\" class=\"dataframe\">\n",
       "  <thead>\n",
       "    <tr style=\"text-align: right;\">\n",
       "      <th></th>\n",
       "      <th>FileName</th>\n",
       "      <th>Size</th>\n",
       "      <th>Width</th>\n",
       "      <th>Height</th>\n",
       "      <th>Aspect Ratio</th>\n",
       "    </tr>\n",
       "  </thead>\n",
       "  <tbody>\n",
       "    <tr>\n",
       "      <th>0</th>\n",
       "      <td>person1000_bacteria_2931.jpeg</td>\n",
       "      <td>(1152, 760)</td>\n",
       "      <td>1152</td>\n",
       "      <td>760</td>\n",
       "      <td>1.52</td>\n",
       "    </tr>\n",
       "    <tr>\n",
       "      <th>1</th>\n",
       "      <td>person1000_virus_1681.jpeg</td>\n",
       "      <td>(1072, 768)</td>\n",
       "      <td>1072</td>\n",
       "      <td>768</td>\n",
       "      <td>1.40</td>\n",
       "    </tr>\n",
       "    <tr>\n",
       "      <th>2</th>\n",
       "      <td>person1001_bacteria_2932.jpeg</td>\n",
       "      <td>(1244, 863)</td>\n",
       "      <td>1244</td>\n",
       "      <td>863</td>\n",
       "      <td>1.44</td>\n",
       "    </tr>\n",
       "    <tr>\n",
       "      <th>3</th>\n",
       "      <td>person1002_bacteria_2933.jpeg</td>\n",
       "      <td>(1242, 940)</td>\n",
       "      <td>1242</td>\n",
       "      <td>940</td>\n",
       "      <td>1.32</td>\n",
       "    </tr>\n",
       "    <tr>\n",
       "      <th>4</th>\n",
       "      <td>person1003_bacteria_2934.jpeg</td>\n",
       "      <td>(1488, 1280)</td>\n",
       "      <td>1488</td>\n",
       "      <td>1280</td>\n",
       "      <td>1.16</td>\n",
       "    </tr>\n",
       "  </tbody>\n",
       "</table>\n",
       "</div>"
      ],
      "text/plain": [
       "                        FileName          Size  Width  Height  Aspect Ratio\n",
       "0  person1000_bacteria_2931.jpeg   (1152, 760)   1152     760          1.52\n",
       "1     person1000_virus_1681.jpeg   (1072, 768)   1072     768          1.40\n",
       "2  person1001_bacteria_2932.jpeg   (1244, 863)   1244     863          1.44\n",
       "3  person1002_bacteria_2933.jpeg   (1242, 940)   1242     940          1.32\n",
       "4  person1003_bacteria_2934.jpeg  (1488, 1280)   1488    1280          1.16"
      ]
     },
     "execution_count": 3,
     "metadata": {},
     "output_type": "execute_result"
    }
   ],
   "source": [
    "# Get the Image Resolutions\n",
    "root_path = 'chest_xray\\\\train\\\\PNEUMONIA\\\\'\n",
    "imgs = [img.name for img in Path(root_path).iterdir() if img.suffix == \".jpeg\"]\n",
    "img_meta = {}\n",
    "for f in imgs: img_meta[str(f)] = imagesize.get(root_path+f)\n",
    "\n",
    "# Convert it to Dataframe and compute aspect ratio\n",
    "img_meta_df = pd.DataFrame.from_dict([img_meta]).T.reset_index().set_axis(['FileName', 'Size'], axis='columns', inplace=False)\n",
    "img_meta_df[[\"Width\", \"Height\"]] = pd.DataFrame(img_meta_df[\"Size\"].tolist(), index=img_meta_df.index)\n",
    "img_meta_df[\"Aspect Ratio\"] = round(img_meta_df[\"Width\"] / img_meta_df[\"Height\"], 2)\n",
    "\n",
    "print(f'Total Nr of Images in the dataset: {len(img_meta_df)}')\n",
    "img_meta_df.head()"
   ]
  },
  {
   "cell_type": "code",
   "execution_count": 4,
   "metadata": {},
   "outputs": [
    {
     "name": "stdout",
     "output_type": "stream",
     "text": [
      "min width: 384\n",
      "min height: 127\n"
     ]
    }
   ],
   "source": [
    "print(\"min width:\", img_meta_df[\"Width\"].min())\n",
    "print(\"min height:\", img_meta_df[\"Height\"].min())"
   ]
  },
  {
   "cell_type": "code",
   "execution_count": 5,
   "metadata": {},
   "outputs": [
    {
     "data": {
      "text/plain": [
       "Text(0, 0.5, 'Height')"
      ]
     },
     "execution_count": 5,
     "metadata": {},
     "output_type": "execute_result"
    },
    {
     "data": {
      "image/png": "[encoded data removed]",
      "text/plain": [
       "<Figure size 576x576 with 1 Axes>"
      ]
     },
     "metadata": {
      "needs_background": "light"
     },
     "output_type": "display_data"
    }
   ],
   "source": [
    "# Visualize Image Resolutions\n",
    "\n",
    "fig = plt.figure(figsize=(8, 8))\n",
    "ax = fig.add_subplot(111)\n",
    "points = ax.scatter(img_meta_df.Width, img_meta_df.Height, color='blue', alpha=0.5, s=img_meta_df[\"Aspect Ratio\"]*100, picker=True)\n",
    "ax.set_title(\"Image Resolution\")\n",
    "ax.set_xlabel(\"Width\", size=14)\n",
    "ax.set_ylabel(\"Height\", size=14)"
   ]
  },
  {
   "cell_type": "markdown",
   "metadata": {},
   "source": [
    "# Loading The Data"
   ]
  },
  {
   "cell_type": "code",
   "execution_count": 6,
   "metadata": {},
   "outputs": [
    {
     "name": "stdout",
     "output_type": "stream",
     "text": [
      "Found 5232 files belonging to 2 classes.\n",
      "Using 4448 files for training.\n",
      "Found 5232 files belonging to 2 classes.\n",
      "Using 784 files for validation.\n",
      "Found 624 files belonging to 2 classes.\n"
     ]
    }
   ],
   "source": [
    "image_size=(256, 256)\n",
    "train_directory = 'chest_xray/train'\n",
    "test_directory = 'chest_xray/test'\n",
    "seed = np.random.randint(50, dtype=int)\n",
    "\n",
    "# these are all default input values from documentation\n",
    "train_data = tf.keras.utils.image_dataset_from_directory(\n",
    "    train_directory, labels='inferred', label_mode='categorical',\n",
    "    class_names=None, color_mode='grayscale', batch_size=32, image_size=image_size,\n",
    "    shuffle=True, seed=seed, validation_split=0.15, subset='training',\n",
    "    interpolation='lanczos5', follow_links=False,\n",
    "    crop_to_aspect_ratio=False\n",
    ")\n",
    "\n",
    "validation_data = tf.keras.utils.image_dataset_from_directory(\n",
    "    train_directory, labels='inferred', label_mode='categorical',\n",
    "    class_names=None, color_mode='grayscale', batch_size=32, image_size=image_size, \n",
    "    shuffle=True, seed=seed, validation_split=0.15, subset='validation',\n",
    "    interpolation='lanczos5', follow_links=False,\n",
    "    crop_to_aspect_ratio=False\n",
    ")\n",
    "\n",
    "# these are all default input values from documentation\n",
    "test_data = tf.keras.utils.image_dataset_from_directory(\n",
    "    test_directory, labels='inferred', label_mode='categorical',\n",
    "    class_names=None, color_mode='grayscale', batch_size=32, image_size=image_size,\n",
    "    shuffle=True, seed=None, validation_split=None, subset=None,\n",
    "    interpolation='lanczos5', follow_links=False,\n",
    "    crop_to_aspect_ratio=False\n",
    ")"
   ]
  },
  {
   "cell_type": "code",
   "execution_count": 7,
   "metadata": {},
   "outputs": [
    {
     "data": {
      "text/plain": [
       "<BatchDataset shapes: ((None, 256, 256, 1), (None, 2)), types: (tf.float32, tf.float32)>"
      ]
     },
     "execution_count": 7,
     "metadata": {},
     "output_type": "execute_result"
    }
   ],
   "source": [
    "train_data"
   ]
  },
  {
   "cell_type": "code",
   "execution_count": 8,
   "metadata": {},
   "outputs": [
    {
     "name": "stdout",
     "output_type": "stream",
     "text": [
      "(32, 256, 256, 1)\n",
      "(32, 2)\n"
     ]
    }
   ],
   "source": [
    "for image_batch, labels_batch in train_data:\n",
    "  print(image_batch.shape)\n",
    "  print(labels_batch.shape)\n",
    "  break"
   ]
  },
  {
   "cell_type": "code",
   "execution_count": 9,
   "metadata": {},
   "outputs": [],
   "source": [
    "normalization_layer = tf.keras.layers.Rescaling(1./255)\n",
    "\n",
    "normalized_train_ds = train_data.map(lambda x, y: (normalization_layer(x), y))\n",
    "normalized_val_ds = validation_data.map(lambda x, y: (normalization_layer(x), y))\n",
    "normalized_test_ds = test_data.map(lambda x, y: (normalization_layer(x), y))"
   ]
  },
  {
   "cell_type": "code",
   "execution_count": 10,
   "metadata": {},
   "outputs": [],
   "source": [
    "AUTOTUNE = tf.data.AUTOTUNE\n",
    "\n",
    "train_ds = normalized_train_ds.cache().prefetch(buffer_size=AUTOTUNE)\n",
    "val_ds = normalized_val_ds.cache().prefetch(buffer_size=AUTOTUNE)\n",
    "test_ds = normalized_test_ds.cache().prefetch(buffer_size=AUTOTUNE)"
   ]
  },
  {
   "cell_type": "code",
   "execution_count": 11,
   "metadata": {},
   "outputs": [
    {
     "name": "stdout",
     "output_type": "stream",
     "text": [
      "Train Labels Shape: (4448,)\n",
      "Validation Labels Shape: (784,)\n",
      "Test Labels Shape: (624,)\n"
     ]
    }
   ],
   "source": [
    "train_labels = np.array([])\n",
    "\n",
    "for x, y in train_data:\n",
    "    train_labels = np.concatenate([train_labels, np.argmax(y.numpy(), axis = -1)])\n",
    "\n",
    "val_labels =  np.array([])\n",
    "\n",
    "for x, y in validation_data:\n",
    "    val_labels = np.concatenate([val_labels, np.argmax(y.numpy(), axis = -1)])\n",
    "\n",
    "test_labels =  np.array([])\n",
    "\n",
    "for x, y in test_data:\n",
    "    test_labels = np.concatenate([test_labels, np.argmax(y.numpy(), axis = -1)])\n",
    "\n",
    "\n",
    "print(\"Train Labels Shape:\", train_labels.shape)\n",
    "print(\"Validation Labels Shape:\", val_labels.shape)\n",
    "print(\"Test Labels Shape:\", test_labels.shape)"
   ]
  },
  {
   "cell_type": "code",
   "execution_count": 12,
   "metadata": {},
   "outputs": [
    {
     "data": {
      "image/png": "[encoded data removed]",
      "text/plain": [
       "<Figure size 720x576 with 1 Axes>"
      ]
     },
     "metadata": {
      "needs_background": "light"
     },
     "output_type": "display_data"
    }
   ],
   "source": [
    "train_cases_count = np.unique(train_labels, return_counts=True)\n",
    "val_cases_count = np.unique(val_labels, return_counts=True)\n",
    "test_cases_count = np.unique(test_labels, return_counts=True)\n",
    "\n",
    "total_cases_count = train_cases_count[1] + val_cases_count[1] + test_cases_count[1]\n",
    "\n",
    "# Plot the results \n",
    "plt.figure(figsize=(10,8))\n",
    "sns.barplot(x=[0, 1], y=total_cases_count)\n",
    "plt.title('Number of cases', fontsize=14)\n",
    "plt.xlabel('Case type', fontsize=12)\n",
    "plt.ylabel('Count', fontsize=12)\n",
    "plt.xticks(range(len(total_cases_count)), ['Normal(0)', 'Pneumonia(1)'])\n",
    "plt.show()"
   ]
  },
  {
   "cell_type": "markdown",
   "metadata": {},
   "source": [
    "<h3>\n",
    "As you can see the data is highly imbalanced. We have almost with thrice pneumonia cases here as compared to the normal cases. <br>\n",
    "This situation is very normal when it comes to medical data. The data will always be imbalanced. <br>\n",
    "either there will be too many normal cases or there will be too many cases with the disease.</h3>"
   ]
  },
  {
   "cell_type": "code",
   "execution_count": 13,
   "metadata": {},
   "outputs": [
    {
     "name": "stdout",
     "output_type": "stream",
     "text": [
      "Because of imbalanced data, the accuracy result of the test set will tend to be around: 0.7296789617486339\n"
     ]
    }
   ],
   "source": [
    "COUNT_NORMAL = total_cases_count[0]\n",
    "COUNT_PNEUMONIA = total_cases_count[1]\n",
    "TRAIN_IMG_COUNT = COUNT_NORMAL + COUNT_PNEUMONIA\n",
    "\n",
    "\n",
    "print('Because of imbalanced data, the accuracy result of the test set will tend to be around:',COUNT_PNEUMONIA/(COUNT_NORMAL+COUNT_PNEUMONIA))"
   ]
  },
  {
   "cell_type": "markdown",
   "metadata": {},
   "source": [
    "# Correcting imbalanced data using weights\n",
    "<h3>\n",
    "Using a set of pre calculated starting weights we well try to make the model think that the normal images <br>\n",
    "are more \"important\" than the pneumonia ones by a certain amount based on their occurrences.<br>\n",
    "\n",
    "Moreover, we are not going to purely use the accuracy mertrics but we will use Prescision and Recall metrics.\n",
    "\n",
    "Here's a good article explaining the difference:\n",
    "[Evaluating Deep Learning Models: The Confusion Matrix, Accuracy, Precision, and Recall](https://blog.paperspace.com/deep-learning-metrics-precision-recall-accuracy/)\n",
    "</h3>\n",
    "\n",
    "\n",
    "<h3>\n",
    "In this type of problem, recall is most significant quantity even more than accuracy and precision. <br>\n",
    "Since we are having unequal number of people in both the classes , therefore we can't take accuracy as an alone metric to calculate model efficieny .<br>\n",
    "\n",
    "precision = True Positive / (True Positive + False Positive)<br>\n",
    "recall = True Positive / (True Positive + False Negative)<br>\n",
    "\n",
    "Also precision can't be taken as alone metric and has less significance than recall in this particular dataset <br>\n",
    "because we have to minimize false negative and that is in the denominator and thus finally increasing 'Recall' .<br>\n",
    "False negative has to be intuitively minimized because falsely diagnosing a patient of pneumonia as not having a pneumonia <br>\n",
    "is a much larger deal than falsely diagnosing a healthy person as a pneumonia patient which is our major concern . <br>\n",
    "That is why we are making this model . To reduce the mistakes done by doctors accidentally ."
   ]
  },
  {
   "cell_type": "code",
   "execution_count": 14,
   "metadata": {},
   "outputs": [
    {
     "name": "stdout",
     "output_type": "stream",
     "text": [
      "Weight for class 0: 1.85\n",
      "Weight for class 1: 0.69\n"
     ]
    }
   ],
   "source": [
    "weight_for_0 = (1 / COUNT_NORMAL)*(TRAIN_IMG_COUNT)/2.0\n",
    "weight_for_1 = (1 / COUNT_PNEUMONIA)*(TRAIN_IMG_COUNT)/2.0\n",
    "\n",
    "class_weight = {0: weight_for_0, 1: weight_for_1}\n",
    "\n",
    "print('Weight for class 0: {:.2f}'.format(weight_for_0))\n",
    "print('Weight for class 1: {:.2f}'.format(weight_for_1))"
   ]
  },
  {
   "cell_type": "markdown",
   "metadata": {},
   "source": [
    "# Basic Model (without convolution layers)"
   ]
  },
  {
   "cell_type": "code",
   "execution_count": 15,
   "metadata": {},
   "outputs": [],
   "source": [
    "num_classes = 2\n",
    "input_shape = (256, 256, 1)\n",
    "\n",
    "basic_model = keras.Sequential(\n",
    "    [\n",
    "        keras.Input(shape=input_shape),\n",
    "        layers.Dense(10, activation=\"relu\"),\n",
    "        layers.Dense(8, activation=\"relu\"),\n",
    "        layers.Dense(6, activation=\"relu\"),\n",
    "        layers.Flatten(),\n",
    "        layers.Dropout(0.15),\n",
    "        layers.Dense(num_classes, activation=\"sigmoid\"),\n",
    "    ]\n",
    ")"
   ]
  },
  {
   "cell_type": "code",
   "execution_count": 16,
   "metadata": {},
   "outputs": [
    {
     "name": "stdout",
     "output_type": "stream",
     "text": [
      "Model: \"sequential\"\n",
      "_________________________________________________________________\n",
      " Layer (type)                Output Shape              Param #   \n",
      "=================================================================\n",
      " dense (Dense)               (None, 256, 256, 10)      20        \n",
      "                                                                 \n",
      " dense_1 (Dense)             (None, 256, 256, 8)       88        \n",
      "                                                                 \n",
      " dense_2 (Dense)             (None, 256, 256, 6)       54        \n",
      "                                                                 \n",
      " flatten (Flatten)           (None, 393216)            0         \n",
      "                                                                 \n",
      " dropout (Dropout)           (None, 393216)            0         \n",
      "                                                                 \n",
      " dense_3 (Dense)             (None, 2)                 786434    \n",
      "                                                                 \n",
      "=================================================================\n",
      "Total params: 786,596\n",
      "Trainable params: 786,596\n",
      "Non-trainable params: 0\n",
      "_________________________________________________________________\n"
     ]
    }
   ],
   "source": [
    "basic_model.summary()"
   ]
  },
  {
   "cell_type": "code",
   "execution_count": 17,
   "metadata": {},
   "outputs": [],
   "source": [
    "from keras.callbacks import LearningRateScheduler\n",
    "\n",
    "# This is a sample of a scheduler I used in the past\n",
    "def lr_scheduler(epoch, lr):\n",
    "    decay_rate = 0.85\n",
    "    decay_step = 1\n",
    "    if epoch % decay_step == 0 and epoch:\n",
    "        return lr * pow(decay_rate, np.floor(epoch / decay_step))\n",
    "    return lr"
   ]
  },
  {
   "cell_type": "code",
   "execution_count": 18,
   "metadata": {},
   "outputs": [
    {
     "name": "stdout",
     "output_type": "stream",
     "text": [
      "\n",
      "Epoch 00001: LearningRateScheduler setting learning rate to 0.0010000000474974513.\n",
      "Epoch 1/20\n",
      "139/139 [==============================] - 6s 32ms/step - loss: 0.3556 - accuracy: 0.8883 - val_loss: 0.1651 - val_accuracy: 0.9401 - lr: 0.0010\n",
      "\n",
      "Epoch 00002: LearningRateScheduler setting learning rate to 0.0008500000403728336.\n",
      "Epoch 2/20\n",
      "139/139 [==============================] - 3s 21ms/step - loss: 0.1501 - accuracy: 0.9409 - val_loss: 0.1311 - val_accuracy: 0.9528 - lr: 8.5000e-04\n",
      "\n",
      "Epoch 00003: LearningRateScheduler setting learning rate to 0.0006141250501968897.\n",
      "Epoch 3/20\n",
      "139/139 [==============================] - 3s 22ms/step - loss: 0.1303 - accuracy: 0.9510 - val_loss: 0.1194 - val_accuracy: 0.9579 - lr: 6.1413e-04\n",
      "\n",
      "Epoch 00004: LearningRateScheduler setting learning rate to 0.0003771495455584954.\n",
      "Epoch 4/20\n",
      "139/139 [==============================] - 3s 23ms/step - loss: 0.1024 - accuracy: 0.9618 - val_loss: 0.1136 - val_accuracy: 0.9592 - lr: 3.7715e-04\n",
      "\n",
      "Epoch 00005: LearningRateScheduler setting learning rate to 0.00019687442435679256.\n",
      "Epoch 5/20\n",
      "139/139 [==============================] - 3s 23ms/step - loss: 0.0894 - accuracy: 0.9665 - val_loss: 0.1078 - val_accuracy: 0.9592 - lr: 1.9687e-04\n",
      "\n",
      "Epoch 00006: LearningRateScheduler setting learning rate to 8.735422524159274e-05.\n",
      "Epoch 6/20\n",
      "139/139 [==============================] - 3s 22ms/step - loss: 0.0811 - accuracy: 0.9712 - val_loss: 0.1067 - val_accuracy: 0.9605 - lr: 8.7354e-05\n",
      "\n",
      "Epoch 00007: LearningRateScheduler setting learning rate to 3.2945602918373075e-05.\n",
      "Epoch 7/20\n",
      "139/139 [==============================] - 3s 21ms/step - loss: 0.0769 - accuracy: 0.9735 - val_loss: 0.1074 - val_accuracy: 0.9605 - lr: 3.2946e-05\n",
      "\n",
      "Epoch 00008: LearningRateScheduler setting learning rate to 1.056160501998452e-05.\n",
      "Epoch 8/20\n",
      "139/139 [==============================] - 3s 21ms/step - loss: 0.0757 - accuracy: 0.9732 - val_loss: 0.1094 - val_accuracy: 0.9630 - lr: 1.0562e-05\n",
      "\n",
      "Epoch 00009: LearningRateScheduler setting learning rate to 2.8779374142621393e-06.\n",
      "Epoch 9/20\n",
      "139/139 [==============================] - 3s 21ms/step - loss: 0.0749 - accuracy: 0.9741 - val_loss: 0.1090 - val_accuracy: 0.9617 - lr: 2.8779e-06\n",
      "\n",
      "Epoch 00010: LearningRateScheduler setting learning rate to 6.665790963418715e-07.\n",
      "Epoch 10/20\n",
      "139/139 [==============================] - 3s 21ms/step - loss: 0.0749 - accuracy: 0.9732 - val_loss: 0.1090 - val_accuracy: 0.9617 - lr: 6.6658e-07\n",
      "\n",
      "Epoch 00011: LearningRateScheduler setting learning rate to 1.3123235720951491e-07.\n",
      "Epoch 11/20\n",
      "139/139 [==============================] - 3s 21ms/step - loss: 0.0745 - accuracy: 0.9741 - val_loss: 0.1090 - val_accuracy: 0.9617 - lr: 1.3123e-07\n",
      "\n",
      "Epoch 00012: LearningRateScheduler setting learning rate to 2.1960847922709916e-08.\n",
      "Epoch 12/20\n",
      "139/139 [==============================] - 3s 21ms/step - loss: 0.0744 - accuracy: 0.9741 - val_loss: 0.1090 - val_accuracy: 0.9617 - lr: 2.1961e-08\n",
      "\n",
      "Epoch 00013: LearningRateScheduler setting learning rate to 3.1237495170887933e-09.\n",
      "Epoch 13/20\n",
      "139/139 [==============================] - 3s 22ms/step - loss: 0.0745 - accuracy: 0.9739 - val_loss: 0.1090 - val_accuracy: 0.9617 - lr: 3.1237e-09\n",
      "\n",
      "Epoch 00014: LearningRateScheduler setting learning rate to 3.776784728128181e-10.\n",
      "Epoch 14/20\n",
      "139/139 [==============================] - 3s 21ms/step - loss: 0.0745 - accuracy: 0.9746 - val_loss: 0.1090 - val_accuracy: 0.9617 - lr: 3.7768e-10\n",
      "\n",
      "Epoch 00015: LearningRateScheduler setting learning rate to 3.881389173891113e-11.\n",
      "Epoch 15/20\n",
      "139/139 [==============================] - 3s 22ms/step - loss: 0.0745 - accuracy: 0.9748 - val_loss: 0.1090 - val_accuracy: 0.9617 - lr: 3.8814e-11\n",
      "\n",
      "Epoch 00016: LearningRateScheduler setting learning rate to 3.3905573195674103e-12.\n",
      "Epoch 16/20\n",
      "139/139 [==============================] - 3s 22ms/step - loss: 0.0744 - accuracy: 0.9739 - val_loss: 0.1090 - val_accuracy: 0.9617 - lr: 3.3906e-12\n",
      "\n",
      "Epoch 00017: LearningRateScheduler setting learning rate to 2.5175256737991116e-13.\n",
      "Epoch 17/20\n",
      "139/139 [==============================] - 3s 21ms/step - loss: 0.0742 - accuracy: 0.9737 - val_loss: 0.1090 - val_accuracy: 0.9617 - lr: 2.5175e-13\n",
      "\n",
      "Epoch 00018: LearningRateScheduler setting learning rate to 1.5888965735005572e-14.\n",
      "Epoch 18/20\n",
      "139/139 [==============================] - 3s 21ms/step - loss: 0.0744 - accuracy: 0.9741 - val_loss: 0.1090 - val_accuracy: 0.9617 - lr: 1.5889e-14\n",
      "\n",
      "Epoch 00019: LearningRateScheduler setting learning rate to 8.523859759031981e-16.\n",
      "Epoch 19/20\n",
      "139/139 [==============================] - 3s 22ms/step - loss: 0.0743 - accuracy: 0.9748 - val_loss: 0.1090 - val_accuracy: 0.9617 - lr: 8.5239e-16\n",
      "\n",
      "Epoch 00020: LearningRateScheduler setting learning rate to 3.886833062600557e-17.\n",
      "Epoch 20/20\n",
      "139/139 [==============================] - 3s 22ms/step - loss: 0.0746 - accuracy: 0.9746 - val_loss: 0.1090 - val_accuracy: 0.9617 - lr: 3.8868e-17\n"
     ]
    }
   ],
   "source": [
    "epochs = 20\n",
    "\n",
    "callbacks = [LearningRateScheduler(lr_scheduler, verbose=1)]\n",
    "\n",
    "METRICS = ['accuracy']\n",
    "\n",
    "basic_model.compile(loss='binary_crossentropy', optimizer=\"adam\", metrics=METRICS)\n",
    "\n",
    "basic_history = basic_model.fit(train_ds, validation_data=val_ds, epochs=epochs, callbacks=callbacks, class_weight=class_weight)"
   ]
  },
  {
   "cell_type": "code",
   "execution_count": 19,
   "metadata": {},
   "outputs": [],
   "source": [
    "# saving the model\n",
    "basic_model.save('models/basic_model.h5')"
   ]
  },
  {
   "cell_type": "code",
   "execution_count": 20,
   "metadata": {},
   "outputs": [],
   "source": [
    "# loading the model\n",
    "from tensorflow.keras.models import load_model\n",
    "basic_model = load_model('models/basic_model.h5')"
   ]
  },
  {
   "cell_type": "code",
   "execution_count": 21,
   "metadata": {},
   "outputs": [
    {
     "name": "stdout",
     "output_type": "stream",
     "text": [
      "dict_keys(['loss', 'accuracy', 'val_loss', 'val_accuracy', 'lr'])\n"
     ]
    },
    {
     "data": {
      "image/png": "[encoded data removed]",
      "text/plain": [
       "<Figure size 432x288 with 1 Axes>"
      ]
     },
     "metadata": {
      "needs_background": "light"
     },
     "output_type": "display_data"
    },
    {
     "data": {
      "image/png": "[encoded data removed]",
      "text/plain": [
       "<Figure size 432x288 with 1 Axes>"
      ]
     },
     "metadata": {
      "needs_background": "light"
     },
     "output_type": "display_data"
    }
   ],
   "source": [
    "# list all data in history\n",
    "print(basic_history.history.keys())\n",
    "# summarize history for accuracy\n",
    "plt.plot(basic_history.history['accuracy'])\n",
    "plt.plot(basic_history.history['val_accuracy'])\n",
    "plt.title('model accuracy')\n",
    "plt.ylabel('accuracy')\n",
    "plt.xlabel('epoch')\n",
    "plt.legend(['train', 'validation'], loc='upper left')\n",
    "plt.show()\n",
    "\n",
    "# summarize history for loss\n",
    "plt.plot(basic_history.history['loss'])\n",
    "plt.plot(basic_history.history['val_loss'])\n",
    "plt.title('model loss')\n",
    "plt.ylabel('loss')\n",
    "plt.xlabel('epoch')\n",
    "plt.legend(['train', 'validation'], loc='upper left')\n",
    "plt.show()"
   ]
  },
  {
   "cell_type": "code",
   "execution_count": 22,
   "metadata": {},
   "outputs": [
    {
     "name": "stdout",
     "output_type": "stream",
     "text": [
      "20/20 [==============================] - 1s 19ms/step - loss: 0.7580 - accuracy: 0.7740\n",
      "Test loss: 0.758037269115448\n",
      "Test accuracy: 0.7740384340286255\n"
     ]
    }
   ],
   "source": [
    "loss, accuracy = basic_model.evaluate(test_ds)\n",
    "print(\"Test loss:\", loss)\n",
    "print(\"Test accuracy:\", accuracy)"
   ]
  },
  {
   "cell_type": "code",
   "execution_count": 23,
   "metadata": {},
   "outputs": [
    {
     "name": "stdout",
     "output_type": "stream",
     "text": [
      "(624,)\n",
      "(624,)\n"
     ]
    }
   ],
   "source": [
    "# Get predictions and Original labels\n",
    "\n",
    "predictions = np.array([])\n",
    "test_labels =  np.array([])\n",
    "for x, y in test_ds:\n",
    "    predictions = np.concatenate([predictions, np.argmax(basic_model.predict(x), axis = -1)])\n",
    "    test_labels = np.concatenate([test_labels, np.argmax(y.numpy(), axis=-1)])\n",
    "\n",
    "print(test_labels.shape)\n",
    "print(predictions.shape)"
   ]
  },
  {
   "cell_type": "code",
   "execution_count": 24,
   "metadata": {},
   "outputs": [
    {
     "data": {
      "image/png": "[encoded data removed]",
      "text/plain": [
       "<Figure size 864x576 with 2 Axes>"
      ]
     },
     "metadata": {
      "needs_background": "light"
     },
     "output_type": "display_data"
    }
   ],
   "source": [
    "# Get the confusion matrix\n",
    "cm  = confusion_matrix(test_labels, predictions)\n",
    "f,ax = plt.subplots(figsize=(12, 8))\n",
    "sns.heatmap(cm, annot=True, linewidths=0.01, cmap=plt.cm.Blues, linecolor=\"gray\", fmt='.1f', ax=ax)\n",
    "plt.xticks(np.arange(0, 2, step=0.5), ['', 'Normal(0)', '', 'Pneumonia(1)'], fontsize=16)\n",
    "plt.yticks(np.arange(0, 2, step=0.5), ['', 'Normal(0)', '', 'Pneumonia(1)'], fontsize=16)\n",
    "plt.xlabel(\"Predicted Label\")\n",
    "plt.ylabel(\"True Label\")\n",
    "plt.title(\"Confusion Matrix\")\n",
    "plt.show()"
   ]
  },
  {
   "cell_type": "code",
   "execution_count": 25,
   "metadata": {},
   "outputs": [
    {
     "name": "stdout",
     "output_type": "stream",
     "text": [
      "              precision    recall  f1-score   support\n",
      "\n",
      "         0.0       0.91      0.44      0.59       234\n",
      "         1.0       0.74      0.97      0.84       390\n",
      "\n",
      "    accuracy                           0.77       624\n",
      "   macro avg       0.83      0.71      0.72       624\n",
      "weighted avg       0.81      0.77      0.75       624\n",
      "\n"
     ]
    }
   ],
   "source": [
    "# prescision and recall calculation\n",
    "\n",
    "from sklearn.metrics import classification_report\n",
    "print(classification_report(test_labels, predictions))"
   ]
  },
  {
   "cell_type": "markdown",
   "metadata": {},
   "source": [
    "# Advanced Model (using convolution layers)"
   ]
  },
  {
   "cell_type": "code",
   "execution_count": 26,
   "metadata": {},
   "outputs": [],
   "source": [
    "num_classes = 2\n",
    "input_shape = (256, 256, 1)\n",
    "\n",
    "advanced_model = keras.Sequential(\n",
    "    [\n",
    "        keras.Input(shape=input_shape),\n",
    "        layers.Conv2D(64, kernel_size=(3, 3), activation=\"relu\", strides=(2, 2), padding='same'),\n",
    "        layers.Conv2D(128, kernel_size=(3, 3), activation=\"relu\", strides=(1, 1), padding='same'),\n",
    "        layers.MaxPooling2D(pool_size=(2, 2)),\n",
    "        layers.Conv2D(128, kernel_size=(3, 3), activation=\"relu\", strides=(2, 2), padding='same'),\n",
    "        layers.Conv2D(256, kernel_size=(3, 3), activation=\"relu\", strides=(1, 1), padding='same'),\n",
    "        layers.MaxPooling2D(pool_size=(2, 2)),\n",
    "        layers.Flatten(),\n",
    "        layers.Dropout(0.2),\n",
    "        layers.Dense(50, activation=\"relu\"),\n",
    "        layers.Dense(15, activation=\"relu\"),\n",
    "        layers.Dense(num_classes, activation=\"softmax\"),\n",
    "    ]\n",
    ") "
   ]
  },
  {
   "cell_type": "code",
   "execution_count": 27,
   "metadata": {},
   "outputs": [
    {
     "name": "stdout",
     "output_type": "stream",
     "text": [
      "Model: \"sequential_1\"\n",
      "_________________________________________________________________\n",
      " Layer (type)                Output Shape              Param #   \n",
      "=================================================================\n",
      " conv2d (Conv2D)             (None, 128, 128, 64)      640       \n",
      "                                                                 \n",
      " conv2d_1 (Conv2D)           (None, 128, 128, 128)     73856     \n",
      "                                                                 \n",
      " max_pooling2d (MaxPooling2D  (None, 64, 64, 128)      0         \n",
      " )                                                               \n",
      "                                                                 \n",
      " conv2d_2 (Conv2D)           (None, 32, 32, 128)       147584    \n",
      "                                                                 \n",
      " conv2d_3 (Conv2D)           (None, 32, 32, 256)       295168    \n",
      "                                                                 \n",
      " max_pooling2d_1 (MaxPooling  (None, 16, 16, 256)      0         \n",
      " 2D)                                                             \n",
      "                                                                 \n",
      " flatten_1 (Flatten)         (None, 65536)             0         \n",
      "                                                                 \n",
      " dropout_1 (Dropout)         (None, 65536)             0         \n",
      "                                                                 \n",
      " dense_4 (Dense)             (None, 50)                3276850   \n",
      "                                                                 \n",
      " dense_5 (Dense)             (None, 15)                765       \n",
      "                                                                 \n",
      " dense_6 (Dense)             (None, 2)                 32        \n",
      "                                                                 \n",
      "=================================================================\n",
      "Total params: 3,794,895\n",
      "Trainable params: 3,794,895\n",
      "Non-trainable params: 0\n",
      "_________________________________________________________________\n"
     ]
    }
   ],
   "source": [
    "advanced_model.summary()"
   ]
  },
  {
   "cell_type": "code",
   "execution_count": 28,
   "metadata": {},
   "outputs": [],
   "source": [
    "from keras.callbacks import LearningRateScheduler\n",
    "\n",
    "# This is a sample of a scheduler I used in the past\n",
    "def lr_scheduler(epoch, lr):\n",
    "    decay_rate = 0.85\n",
    "    decay_step = 1\n",
    "    if epoch % decay_step == 0 and epoch:\n",
    "        return lr * pow(decay_rate, np.floor(epoch / decay_step))\n",
    "    return lr"
   ]
  },
  {
   "cell_type": "code",
   "execution_count": 29,
   "metadata": {},
   "outputs": [
    {
     "name": "stdout",
     "output_type": "stream",
     "text": [
      "\n",
      "Epoch 00001: LearningRateScheduler setting learning rate to 0.0010000000474974513.\n",
      "Epoch 1/40\n",
      "139/139 [==============================] - 8s 41ms/step - loss: 0.3633 - accuracy: 0.7871 - val_loss: 0.1352 - val_accuracy: 0.9528 - lr: 0.0010\n",
      "\n",
      "Epoch 00002: LearningRateScheduler setting learning rate to 0.0008500000403728336.\n",
      "Epoch 2/40\n",
      "139/139 [==============================] - 5s 39ms/step - loss: 0.1011 - accuracy: 0.9634 - val_loss: 0.1027 - val_accuracy: 0.9630 - lr: 8.5000e-04\n",
      "\n",
      "Epoch 00003: LearningRateScheduler setting learning rate to 0.0006141250501968897.\n",
      "Epoch 3/40\n",
      "139/139 [==============================] - 5s 39ms/step - loss: 0.0742 - accuracy: 0.9712 - val_loss: 0.1009 - val_accuracy: 0.9656 - lr: 6.1413e-04\n",
      "\n",
      "Epoch 00004: LearningRateScheduler setting learning rate to 0.0003771495455584954.\n",
      "Epoch 4/40\n",
      "139/139 [==============================] - 5s 39ms/step - loss: 0.0533 - accuracy: 0.9804 - val_loss: 0.0934 - val_accuracy: 0.9694 - lr: 3.7715e-04\n",
      "\n",
      "Epoch 00005: LearningRateScheduler setting learning rate to 0.00019687442435679256.\n",
      "Epoch 5/40\n",
      "139/139 [==============================] - 5s 39ms/step - loss: 0.0400 - accuracy: 0.9847 - val_loss: 0.0867 - val_accuracy: 0.9719 - lr: 1.9687e-04\n",
      "\n",
      "Epoch 00006: LearningRateScheduler setting learning rate to 8.735422524159274e-05.\n",
      "Epoch 6/40\n",
      "139/139 [==============================] - 5s 39ms/step - loss: 0.0304 - accuracy: 0.9894 - val_loss: 0.0863 - val_accuracy: 0.9719 - lr: 8.7354e-05\n",
      "\n",
      "Epoch 00007: LearningRateScheduler setting learning rate to 3.2945602918373075e-05.\n",
      "Epoch 7/40\n",
      "139/139 [==============================] - 5s 39ms/step - loss: 0.0269 - accuracy: 0.9901 - val_loss: 0.0873 - val_accuracy: 0.9732 - lr: 3.2946e-05\n",
      "\n",
      "Epoch 00008: LearningRateScheduler setting learning rate to 1.056160501998452e-05.\n",
      "Epoch 8/40\n",
      "139/139 [==============================] - 5s 39ms/step - loss: 0.0255 - accuracy: 0.9908 - val_loss: 0.0867 - val_accuracy: 0.9719 - lr: 1.0562e-05\n",
      "\n",
      "Epoch 00009: LearningRateScheduler setting learning rate to 2.8779374142621393e-06.\n",
      "Epoch 9/40\n",
      "139/139 [==============================] - 5s 39ms/step - loss: 0.0246 - accuracy: 0.9912 - val_loss: 0.0864 - val_accuracy: 0.9719 - lr: 2.8779e-06\n",
      "\n",
      "Epoch 00010: LearningRateScheduler setting learning rate to 6.665790963418715e-07.\n",
      "Epoch 10/40\n",
      "139/139 [==============================] - 5s 39ms/step - loss: 0.0248 - accuracy: 0.9910 - val_loss: 0.0864 - val_accuracy: 0.9719 - lr: 6.6658e-07\n",
      "\n",
      "Epoch 00011: LearningRateScheduler setting learning rate to 1.3123235720951491e-07.\n",
      "Epoch 11/40\n",
      "139/139 [==============================] - 5s 39ms/step - loss: 0.0247 - accuracy: 0.9921 - val_loss: 0.0864 - val_accuracy: 0.9732 - lr: 1.3123e-07\n",
      "\n",
      "Epoch 00012: LearningRateScheduler setting learning rate to 2.1960847922709916e-08.\n",
      "Epoch 12/40\n",
      "139/139 [==============================] - 5s 39ms/step - loss: 0.0238 - accuracy: 0.9921 - val_loss: 0.0864 - val_accuracy: 0.9732 - lr: 2.1961e-08\n",
      "\n",
      "Epoch 00013: LearningRateScheduler setting learning rate to 3.1237495170887933e-09.\n",
      "Epoch 13/40\n",
      "139/139 [==============================] - 5s 39ms/step - loss: 0.0242 - accuracy: 0.9910 - val_loss: 0.0864 - val_accuracy: 0.9732 - lr: 3.1237e-09\n",
      "\n",
      "Epoch 00014: LearningRateScheduler setting learning rate to 3.776784728128181e-10.\n",
      "Epoch 14/40\n",
      "139/139 [==============================] - 5s 39ms/step - loss: 0.0243 - accuracy: 0.9912 - val_loss: 0.0864 - val_accuracy: 0.9732 - lr: 3.7768e-10\n",
      "\n",
      "Epoch 00015: LearningRateScheduler setting learning rate to 3.881389173891113e-11.\n",
      "Epoch 15/40\n",
      "139/139 [==============================] - 5s 39ms/step - loss: 0.0247 - accuracy: 0.9917 - val_loss: 0.0864 - val_accuracy: 0.9732 - lr: 3.8814e-11\n",
      "\n",
      "Epoch 00016: LearningRateScheduler setting learning rate to 3.3905573195674103e-12.\n",
      "Epoch 16/40\n",
      "139/139 [==============================] - 5s 39ms/step - loss: 0.0249 - accuracy: 0.9906 - val_loss: 0.0864 - val_accuracy: 0.9732 - lr: 3.3906e-12\n",
      "\n",
      "Epoch 00017: LearningRateScheduler setting learning rate to 2.5175256737991116e-13.\n",
      "Epoch 17/40\n",
      "139/139 [==============================] - 6s 41ms/step - loss: 0.0251 - accuracy: 0.9924 - val_loss: 0.0864 - val_accuracy: 0.9732 - lr: 2.5175e-13\n",
      "\n",
      "Epoch 00018: LearningRateScheduler setting learning rate to 1.5888965735005572e-14.\n",
      "Epoch 18/40\n",
      "139/139 [==============================] - 6s 40ms/step - loss: 0.0248 - accuracy: 0.9912 - val_loss: 0.0864 - val_accuracy: 0.9732 - lr: 1.5889e-14\n",
      "\n",
      "Epoch 00019: LearningRateScheduler setting learning rate to 8.523859759031981e-16.\n",
      "Epoch 19/40\n",
      "139/139 [==============================] - 5s 40ms/step - loss: 0.0246 - accuracy: 0.9912 - val_loss: 0.0864 - val_accuracy: 0.9732 - lr: 8.5239e-16\n",
      "\n",
      "Epoch 00020: LearningRateScheduler setting learning rate to 3.886833062600557e-17.\n",
      "Epoch 20/40\n",
      "139/139 [==============================] - 6s 40ms/step - loss: 0.0242 - accuracy: 0.9912 - val_loss: 0.0864 - val_accuracy: 0.9732 - lr: 3.8868e-17\n",
      "\n",
      "Epoch 00021: LearningRateScheduler setting learning rate to 1.5065182543826999e-18.\n",
      "Epoch 21/40\n",
      "139/139 [==============================] - 6s 40ms/step - loss: 0.0246 - accuracy: 0.9919 - val_loss: 0.0864 - val_accuracy: 0.9732 - lr: 1.5065e-18\n"
     ]
    }
   ],
   "source": [
    "BATCH_SIZE = 32\n",
    "\n",
    "EPOCHS = 40\n",
    "\n",
    "early_stopping = tf.keras.callbacks.EarlyStopping(patience=15, restore_best_weights=True)\n",
    "\n",
    "learning_rate = LearningRateScheduler(lr_scheduler, verbose=1)\n",
    "\n",
    "callbacks = [learning_rate, early_stopping]\n",
    "\n",
    "METRICS = ['accuracy']\n",
    "\n",
    "advanced_model.compile(loss='binary_crossentropy', optimizer=\"adam\", metrics=METRICS)\n",
    "\n",
    "advanced_history = advanced_model.fit(train_ds, validation_data=val_ds, epochs=EPOCHS, callbacks=callbacks, class_weight=class_weight)"
   ]
  },
  {
   "cell_type": "code",
   "execution_count": 30,
   "metadata": {},
   "outputs": [],
   "source": [
    "# saving the model\n",
    "advanced_model.save('models/advanced_model.h5')"
   ]
  },
  {
   "cell_type": "code",
   "execution_count": 31,
   "metadata": {},
   "outputs": [],
   "source": [
    "# loading the model\n",
    "from tensorflow.keras.models import load_model\n",
    "advanced_model = load_model('models/advanced_model.h5')"
   ]
  },
  {
   "cell_type": "code",
   "execution_count": 32,
   "metadata": {},
   "outputs": [
    {
     "name": "stdout",
     "output_type": "stream",
     "text": [
      "20/20 [==============================] - 0s 12ms/step - loss: 1.3237 - accuracy: 0.7724\n",
      "Test loss: 1.323726773262024\n",
      "Test accuracy: 0.7724359035491943\n"
     ]
    }
   ],
   "source": [
    "loss, accuracy = advanced_model.evaluate(test_ds)\n",
    "print(\"Test loss:\", loss)\n",
    "print(\"Test accuracy:\", accuracy)"
   ]
  },
  {
   "cell_type": "code",
   "execution_count": 33,
   "metadata": {},
   "outputs": [
    {
     "name": "stdout",
     "output_type": "stream",
     "text": [
      "dict_keys(['loss', 'accuracy', 'val_loss', 'val_accuracy', 'lr'])\n"
     ]
    },
    {
     "data": {
      "image/png": "[encoded data removed]",
      "text/plain": [
       "<Figure size 432x288 with 1 Axes>"
      ]
     },
     "metadata": {
      "needs_background": "light"
     },
     "output_type": "display_data"
    },
    {
     "data": {
      "image/png": "[encoded data removed]",
      "text/plain": [
       "<Figure size 432x288 with 1 Axes>"
      ]
     },
     "metadata": {
      "needs_background": "light"
     },
     "output_type": "display_data"
    }
   ],
   "source": [
    "# list all data in history\n",
    "print(advanced_history.history.keys())\n",
    "# summarize history for accuracy\n",
    "plt.plot(advanced_history.history['accuracy'])\n",
    "plt.plot(advanced_history.history['val_accuracy'])\n",
    "plt.title('model accuracy')\n",
    "plt.ylabel('accuracy')\n",
    "plt.xlabel('epoch')\n",
    "plt.legend(['train', 'validation'], loc='upper left')\n",
    "plt.show()\n",
    "\n",
    "# summarize history for loss\n",
    "plt.plot(advanced_history.history['loss'])\n",
    "plt.plot(advanced_history.history['val_loss'])\n",
    "plt.title('model loss')\n",
    "plt.ylabel('loss')\n",
    "plt.xlabel('epoch')\n",
    "plt.legend(['train', 'validation'], loc='upper left')\n",
    "plt.show()"
   ]
  },
  {
   "cell_type": "code",
   "execution_count": 34,
   "metadata": {},
   "outputs": [
    {
     "name": "stdout",
     "output_type": "stream",
     "text": [
      "(624,)\n",
      "(624,)\n"
     ]
    }
   ],
   "source": [
    "# Get predictions and Original labels\n",
    "\n",
    "predictions = np.array([])\n",
    "test_labels =  np.array([])\n",
    "for x, y in test_ds:\n",
    "    predictions = np.concatenate([predictions, np.argmax(advanced_model.predict(x), axis = -1)])\n",
    "    test_labels = np.concatenate([test_labels, np.argmax(y.numpy(), axis = -1)])\n",
    "\n",
    "print(test_labels.shape)\n",
    "print(predictions.shape)"
   ]
  },
  {
   "cell_type": "code",
   "execution_count": 35,
   "metadata": {},
   "outputs": [
    {
     "data": {
      "image/png": "[encoded data removed]",
      "text/plain": [
       "<Figure size 864x576 with 2 Axes>"
      ]
     },
     "metadata": {
      "needs_background": "light"
     },
     "output_type": "display_data"
    }
   ],
   "source": [
    "# Get the confusion matrix\n",
    "cm  = confusion_matrix(test_labels, predictions)\n",
    "f,ax = plt.subplots(figsize=(12, 8))\n",
    "sns.heatmap(cm, annot=True, linewidths=0.01, cmap=plt.cm.Blues, linecolor=\"gray\", fmt='.1f', ax=ax)\n",
    "plt.xticks(np.arange(0, 2, step=0.5), ['', 'Normal(0)', '', 'Pneumonia(1)'], fontsize=16)\n",
    "plt.yticks(np.arange(0, 2, step=0.5), ['', 'Normal(0)', '', 'Pneumonia(1)'], fontsize=16)\n",
    "plt.xlabel(\"Predicted Label\")\n",
    "plt.ylabel(\"True Label\")\n",
    "plt.title(\"Confusion Matrix\")\n",
    "plt.show()"
   ]
  },
  {
   "cell_type": "code",
   "execution_count": 36,
   "metadata": {},
   "outputs": [
    {
     "name": "stdout",
     "output_type": "stream",
     "text": [
      "              precision    recall  f1-score   support\n",
      "\n",
      "         0.0       0.98      0.40      0.57       234\n",
      "         1.0       0.73      0.99      0.85       390\n",
      "\n",
      "    accuracy                           0.77       624\n",
      "   macro avg       0.86      0.70      0.71       624\n",
      "weighted avg       0.83      0.77      0.74       624\n",
      "\n"
     ]
    }
   ],
   "source": [
    "# prescision and recall calculation\n",
    "\n",
    "from sklearn.metrics import classification_report\n",
    "print(classification_report(test_labels, predictions))"
   ]
  },
  {
   "cell_type": "markdown",
   "metadata": {},
   "source": [
    "# Data Augmentation "
   ]
  },
  {
   "cell_type": "code",
   "execution_count": 37,
   "metadata": {},
   "outputs": [],
   "source": [
    "num_classes = 2\n",
    "input_shape = (256, 256, 1)\n",
    "\n",
    "augmentation_model = keras.Sequential(\n",
    "    [\n",
    "        keras.Input(shape=input_shape),\n",
    "        \n",
    "        # Data Augmentation\n",
    "        preprocessing.RandomContrast(0.3),\n",
    "        preprocessing.RandomRotation(0.18),\n",
    "        preprocessing.RandomZoom(0.21),\n",
    "        \n",
    "        # body\n",
    "        layers.BatchNormalization(),\n",
    "        \n",
    "        layers.Conv2D(64, kernel_size=(3,3) , strides=(1, 1) , padding = 'same' , activation = 'relu'),\n",
    "        layers.MaxPooling2D(pool_size=(2,2) , strides=(2, 2) , padding = 'same'),\n",
    "        \n",
    "        layers.Conv2D(64, kernel_size=(3,3) , strides=(1, 1) , padding = 'same' , activation = 'relu'),\n",
    "        layers.Dropout(0.2),\n",
    "        layers.MaxPooling2D(pool_size=(2,2) , strides=(2, 2) , padding = 'same'),\n",
    "\n",
    "        layers.Conv2D(64, kernel_size=(3,3) , strides=(1, 1) , padding = 'same' , activation = 'relu'),\n",
    "        layers.MaxPooling2D(pool_size=(2,2) , strides=(2, 2) , padding = 'same'),\n",
    "        layers.Dropout(0.1),\n",
    "        \n",
    "        layers.Conv2D(128, kernel_size=(3,3) , strides=(1, 1) , padding = 'same', activation = 'relu'),\n",
    "        layers.MaxPooling2D(pool_size=(2,2) , strides=(2, 2) , padding = 'same'),\n",
    "\n",
    "        # Head\n",
    "        layers.Flatten(),\n",
    "        layers.Dense(units = 128, activation = 'relu'),\n",
    "        layers.Dropout(0.1),\n",
    "        layers.Dense(num_classes, activation = 'sigmoid'),\n",
    "    ]\n",
    ") "
   ]
  },
  {
   "cell_type": "code",
   "execution_count": 38,
   "metadata": {},
   "outputs": [
    {
     "name": "stdout",
     "output_type": "stream",
     "text": [
      "Model: \"sequential_2\"\n",
      "_________________________________________________________________\n",
      " Layer (type)                Output Shape              Param #   \n",
      "=================================================================\n",
      " random_contrast (RandomCont  (None, 256, 256, 1)      0         \n",
      " rast)                                                           \n",
      "                                                                 \n",
      " random_rotation (RandomRota  (None, 256, 256, 1)      0         \n",
      " tion)                                                           \n",
      "                                                                 \n",
      " random_zoom (RandomZoom)    (None, 256, 256, 1)       0         \n",
      "                                                                 \n",
      " batch_normalization (BatchN  (None, 256, 256, 1)      4         \n",
      " ormalization)                                                   \n",
      "                                                                 \n",
      " conv2d_4 (Conv2D)           (None, 256, 256, 64)      640       \n",
      "                                                                 \n",
      " max_pooling2d_2 (MaxPooling  (None, 128, 128, 64)     0         \n",
      " 2D)                                                             \n",
      "                                                                 \n",
      " conv2d_5 (Conv2D)           (None, 128, 128, 64)      36928     \n",
      "                                                                 \n",
      " dropout_2 (Dropout)         (None, 128, 128, 64)      0         \n",
      "                                                                 \n",
      " max_pooling2d_3 (MaxPooling  (None, 64, 64, 64)       0         \n",
      " 2D)                                                             \n",
      "                                                                 \n",
      " conv2d_6 (Conv2D)           (None, 64, 64, 64)        36928     \n",
      "                                                                 \n",
      " max_pooling2d_4 (MaxPooling  (None, 32, 32, 64)       0         \n",
      " 2D)                                                             \n",
      "                                                                 \n",
      " dropout_3 (Dropout)         (None, 32, 32, 64)        0         \n",
      "                                                                 \n",
      " conv2d_7 (Conv2D)           (None, 32, 32, 128)       73856     \n",
      "                                                                 \n",
      " max_pooling2d_5 (MaxPooling  (None, 16, 16, 128)      0         \n",
      " 2D)                                                             \n",
      "                                                                 \n",
      " flatten_2 (Flatten)         (None, 32768)             0         \n",
      "                                                                 \n",
      " dense_7 (Dense)             (None, 128)               4194432   \n",
      "                                                                 \n",
      " dropout_4 (Dropout)         (None, 128)               0         \n",
      "                                                                 \n",
      " dense_8 (Dense)             (None, 2)                 258       \n",
      "                                                                 \n",
      "=================================================================\n",
      "Total params: 4,343,046\n",
      "Trainable params: 4,343,044\n",
      "Non-trainable params: 2\n",
      "_________________________________________________________________\n"
     ]
    }
   ],
   "source": [
    "augmentation_model.summary()"
   ]
  },
  {
   "cell_type": "code",
   "execution_count": 39,
   "metadata": {},
   "outputs": [],
   "source": [
    "from keras.callbacks import LearningRateScheduler\n",
    "\n",
    "# This is a sample of a scheduler I used in the past\n",
    "def lr_scheduler(epoch, lr):\n",
    "    decay_rate = 0.85\n",
    "    decay_step = 1\n",
    "    if epoch % decay_step == 0 and epoch:\n",
    "        return lr * pow(decay_rate, np.floor(epoch / decay_step))\n",
    "    return lr"
   ]
  },
  {
   "cell_type": "code",
   "execution_count": 40,
   "metadata": {},
   "outputs": [
    {
     "name": "stdout",
     "output_type": "stream",
     "text": [
      "\n",
      "Epoch 00001: LearningRateScheduler setting learning rate to 0.0010000000474974513.\n",
      "Epoch 1/40\n",
      "139/139 [==============================] - 9s 56ms/step - loss: 0.4492 - accuracy: 0.7700 - val_loss: 0.3994 - val_accuracy: 0.8788 - lr: 0.0010\n",
      "\n",
      "Epoch 00002: LearningRateScheduler setting learning rate to 0.0008500000403728336.\n",
      "Epoch 2/40\n",
      "139/139 [==============================] - 7s 54ms/step - loss: 0.2601 - accuracy: 0.9002 - val_loss: 0.2763 - val_accuracy: 0.9133 - lr: 8.5000e-04\n",
      "\n",
      "Epoch 00003: LearningRateScheduler setting learning rate to 0.0006141250501968897.\n",
      "Epoch 3/40\n",
      "139/139 [==============================] - 8s 55ms/step - loss: 0.2161 - accuracy: 0.9245 - val_loss: 0.2109 - val_accuracy: 0.9247 - lr: 6.1413e-04\n",
      "\n",
      "Epoch 00004: LearningRateScheduler setting learning rate to 0.0003771495455584954.\n",
      "Epoch 4/40\n",
      "139/139 [==============================] - 7s 54ms/step - loss: 0.1892 - accuracy: 0.9359 - val_loss: 0.1688 - val_accuracy: 0.9375 - lr: 3.7715e-04\n",
      "\n",
      "Epoch 00005: LearningRateScheduler setting learning rate to 0.00019687442435679256.\n",
      "Epoch 5/40\n",
      "139/139 [==============================] - 7s 53ms/step - loss: 0.1627 - accuracy: 0.9429 - val_loss: 0.1755 - val_accuracy: 0.9324 - lr: 1.9687e-04\n",
      "\n",
      "Epoch 00006: LearningRateScheduler setting learning rate to 8.735422524159274e-05.\n",
      "Epoch 6/40\n",
      "139/139 [==============================] - 7s 53ms/step - loss: 0.1570 - accuracy: 0.9451 - val_loss: 0.1826 - val_accuracy: 0.9311 - lr: 8.7354e-05\n",
      "\n",
      "Epoch 00007: LearningRateScheduler setting learning rate to 3.2945602918373075e-05.\n",
      "Epoch 7/40\n",
      "139/139 [==============================] - 7s 54ms/step - loss: 0.1594 - accuracy: 0.9377 - val_loss: 0.1809 - val_accuracy: 0.9349 - lr: 3.2946e-05\n",
      "\n",
      "Epoch 00008: LearningRateScheduler setting learning rate to 1.056160501998452e-05.\n",
      "Epoch 8/40\n",
      "139/139 [==============================] - 8s 55ms/step - loss: 0.1549 - accuracy: 0.9418 - val_loss: 0.1793 - val_accuracy: 0.9349 - lr: 1.0562e-05\n",
      "\n",
      "Epoch 00009: LearningRateScheduler setting learning rate to 2.8779374142621393e-06.\n",
      "Epoch 9/40\n",
      "139/139 [==============================] - 8s 55ms/step - loss: 0.1448 - accuracy: 0.9465 - val_loss: 0.1782 - val_accuracy: 0.9349 - lr: 2.8779e-06\n",
      "\n",
      "Epoch 00010: LearningRateScheduler setting learning rate to 6.665790963418715e-07.\n",
      "Epoch 10/40\n",
      "139/139 [==============================] - 8s 55ms/step - loss: 0.1460 - accuracy: 0.9458 - val_loss: 0.1783 - val_accuracy: 0.9349 - lr: 6.6658e-07\n",
      "\n",
      "Epoch 00011: LearningRateScheduler setting learning rate to 1.3123235720951491e-07.\n",
      "Epoch 11/40\n",
      "139/139 [==============================] - 8s 55ms/step - loss: 0.1472 - accuracy: 0.9490 - val_loss: 0.1778 - val_accuracy: 0.9349 - lr: 1.3123e-07\n",
      "\n",
      "Epoch 00012: LearningRateScheduler setting learning rate to 2.1960847922709916e-08.\n",
      "Epoch 12/40\n",
      "139/139 [==============================] - 8s 55ms/step - loss: 0.1538 - accuracy: 0.9406 - val_loss: 0.1789 - val_accuracy: 0.9349 - lr: 2.1961e-08\n",
      "\n",
      "Epoch 00013: LearningRateScheduler setting learning rate to 3.1237495170887933e-09.\n",
      "Epoch 13/40\n",
      "139/139 [==============================] - 8s 55ms/step - loss: 0.1392 - accuracy: 0.9510 - val_loss: 0.1784 - val_accuracy: 0.9349 - lr: 3.1237e-09\n",
      "\n",
      "Epoch 00014: LearningRateScheduler setting learning rate to 3.776784728128181e-10.\n",
      "Epoch 14/40\n",
      "139/139 [==============================] - 8s 55ms/step - loss: 0.1492 - accuracy: 0.9458 - val_loss: 0.1785 - val_accuracy: 0.9349 - lr: 3.7768e-10\n",
      "\n",
      "Epoch 00015: LearningRateScheduler setting learning rate to 3.881389173891113e-11.\n",
      "Epoch 15/40\n",
      "139/139 [==============================] - 8s 55ms/step - loss: 0.1452 - accuracy: 0.9485 - val_loss: 0.1772 - val_accuracy: 0.9349 - lr: 3.8814e-11\n",
      "\n",
      "Epoch 00016: LearningRateScheduler setting learning rate to 3.3905573195674103e-12.\n",
      "Epoch 16/40\n",
      "139/139 [==============================] - 8s 55ms/step - loss: 0.1483 - accuracy: 0.9476 - val_loss: 0.1801 - val_accuracy: 0.9337 - lr: 3.3906e-12\n",
      "\n",
      "Epoch 00017: LearningRateScheduler setting learning rate to 2.5175256737991116e-13.\n",
      "Epoch 17/40\n",
      "139/139 [==============================] - 8s 54ms/step - loss: 0.1535 - accuracy: 0.9431 - val_loss: 0.1780 - val_accuracy: 0.9349 - lr: 2.5175e-13\n",
      "\n",
      "Epoch 00018: LearningRateScheduler setting learning rate to 1.5888965735005572e-14.\n",
      "Epoch 18/40\n",
      "139/139 [==============================] - 8s 55ms/step - loss: 0.1462 - accuracy: 0.9454 - val_loss: 0.1783 - val_accuracy: 0.9349 - lr: 1.5889e-14\n",
      "\n",
      "Epoch 00019: LearningRateScheduler setting learning rate to 8.523859759031981e-16.\n",
      "Epoch 19/40\n",
      "139/139 [==============================] - 8s 55ms/step - loss: 0.1463 - accuracy: 0.9467 - val_loss: 0.1784 - val_accuracy: 0.9349 - lr: 8.5239e-16\n"
     ]
    }
   ],
   "source": [
    "BATCH_SIZE = 64\n",
    "\n",
    "EPOCHS = 40\n",
    "\n",
    "early_stopping = tf.keras.callbacks.EarlyStopping(patience=15, restore_best_weights=True)\n",
    "\n",
    "learning_rate = LearningRateScheduler(lr_scheduler, verbose=1)\n",
    "\n",
    "callbacks = [learning_rate, early_stopping]\n",
    "\n",
    "METRICS = ['accuracy']\n",
    "\n",
    "augmentation_model.compile(loss='binary_crossentropy', optimizer=\"adam\", metrics=METRICS)\n",
    "\n",
    "augmentation_history = augmentation_model.fit(train_ds, validation_data=val_ds, epochs=EPOCHS, batch_size=BATCH_SIZE, callbacks=callbacks, class_weight=class_weight)"
   ]
  },
  {
   "cell_type": "code",
   "execution_count": 41,
   "metadata": {},
   "outputs": [],
   "source": [
    "# saving the model\n",
    "augmentation_model.save('models/augmentation_model.h5')"
   ]
  },
  {
   "cell_type": "code",
   "execution_count": 42,
   "metadata": {},
   "outputs": [],
   "source": [
    "# loading the model\n",
    "from tensorflow.keras.models import load_model\n",
    "augmentation_model = load_model('models/augmentation_model.h5')"
   ]
  },
  {
   "cell_type": "code",
   "execution_count": 43,
   "metadata": {},
   "outputs": [
    {
     "name": "stdout",
     "output_type": "stream",
     "text": [
      "20/20 [==============================] - 0s 15ms/step - loss: 0.3209 - accuracy: 0.8782\n",
      "Test loss: 0.32091212272644043\n",
      "Test accuracy: 0.8782051205635071\n"
     ]
    }
   ],
   "source": [
    "loss, accuracy = augmentation_model.evaluate(test_ds)\n",
    "print(\"Test loss:\", loss)\n",
    "print(\"Test accuracy:\", accuracy)"
   ]
  },
  {
   "cell_type": "code",
   "execution_count": 44,
   "metadata": {},
   "outputs": [
    {
     "name": "stdout",
     "output_type": "stream",
     "text": [
      "dict_keys(['loss', 'accuracy', 'val_loss', 'val_accuracy', 'lr'])\n"
     ]
    },
    {
     "data": {
      "image/png": "[encoded data removed]",
      "text/plain": [
       "<Figure size 432x288 with 1 Axes>"
      ]
     },
     "metadata": {
      "needs_background": "light"
     },
     "output_type": "display_data"
    },
    {
     "data": {
      "image/png": "[encoded data removed]",
      "text/plain": [
       "<Figure size 432x288 with 1 Axes>"
      ]
     },
     "metadata": {
      "needs_background": "light"
     },
     "output_type": "display_data"
    }
   ],
   "source": [
    "# list all data in history\n",
    "print(augmentation_history.history.keys())\n",
    "# summarize history for accuracy\n",
    "plt.plot(augmentation_history.history['accuracy'])\n",
    "plt.plot(augmentation_history.history['val_accuracy'])\n",
    "plt.title('model accuracy')\n",
    "plt.ylabel('accuracy')\n",
    "plt.xlabel('epoch')\n",
    "plt.legend(['train', 'validation'], loc='upper left')\n",
    "plt.show()\n",
    "\n",
    "# summarize history for loss\n",
    "plt.plot(augmentation_history.history['loss'])\n",
    "plt.plot(augmentation_history.history['val_loss'])\n",
    "plt.title('model loss')\n",
    "plt.ylabel('loss')\n",
    "plt.xlabel('epoch')\n",
    "plt.legend(['train', 'validation'], loc='upper left')\n",
    "plt.show()"
   ]
  },
  {
   "cell_type": "code",
   "execution_count": 45,
   "metadata": {},
   "outputs": [
    {
     "name": "stdout",
     "output_type": "stream",
     "text": [
      "(624,)\n",
      "(624,)\n"
     ]
    }
   ],
   "source": [
    "# Get predictions and Original labels\n",
    "\n",
    "predictions = np.array([])\n",
    "test_labels =  np.array([])\n",
    "for x, y in test_ds:\n",
    "    predictions = np.concatenate([predictions, np.argmax(augmentation_model.predict(x), axis = -1)])\n",
    "    test_labels = np.concatenate([test_labels, np.argmax(y.numpy(), axis = -1)])\n",
    "\n",
    "print(test_labels.shape)\n",
    "print(predictions.shape)"
   ]
  },
  {
   "cell_type": "code",
   "execution_count": 46,
   "metadata": {},
   "outputs": [
    {
     "data": {
      "image/png": "[encoded data removed]",
      "text/plain": [
       "<Figure size 864x576 with 2 Axes>"
      ]
     },
     "metadata": {
      "needs_background": "light"
     },
     "output_type": "display_data"
    }
   ],
   "source": [
    "# Get the confusion matrix\n",
    "cm  = confusion_matrix(test_labels, predictions)\n",
    "f,ax = plt.subplots(figsize=(12, 8))\n",
    "sns.heatmap(cm, annot=True, linewidths=0.01, cmap=plt.cm.Blues, linecolor=\"gray\", fmt='.1f', ax=ax)\n",
    "plt.xticks(np.arange(0, 2, step=0.5), ['', 'Normal(0)', '', 'Pneumonia(1)'], fontsize=16)\n",
    "plt.yticks(np.arange(0, 2, step=0.5), ['', 'Normal(0)', '', 'Pneumonia(1)'], fontsize=16)\n",
    "plt.xlabel(\"Predicted Label\")\n",
    "plt.ylabel(\"True Label\")\n",
    "plt.title(\"Confusion Matrix\")\n",
    "plt.show()"
   ]
  },
  {
   "cell_type": "code",
   "execution_count": 47,
   "metadata": {},
   "outputs": [
    {
     "name": "stdout",
     "output_type": "stream",
     "text": [
      "              precision    recall  f1-score   support\n",
      "\n",
      "         0.0       0.89      0.77      0.83       234\n",
      "         1.0       0.87      0.94      0.91       390\n",
      "\n",
      "    accuracy                           0.88       624\n",
      "   macro avg       0.88      0.86      0.87       624\n",
      "weighted avg       0.88      0.88      0.88       624\n",
      "\n"
     ]
    }
   ],
   "source": [
    "# prescision and recall calculation\n",
    "\n",
    "from sklearn.metrics import classification_report\n",
    "print(classification_report(test_labels, predictions))"
   ]
  }
 ],
 "metadata": {
  "interpreter": {
   "hash": "03eaa2ea944cf99881aa5fab8d165e2f17a4015119a862d5d367392066f26a1e"
  },
  "kernelspec": {
   "display_name": "Python 3",
   "language": "python",
   "name": "python3"
  },
  "language_info": {
   "codemirror_mode": {
    "name": "ipython",
    "version": 3
   },
   "file_extension": ".py",
   "mimetype": "text/x-python",
   "name": "python",
   "nbconvert_exporter": "python",
   "pygments_lexer": "ipython3",
   "version": "3.9.9"
  }
 },
 "nbformat": 4,
 "nbformat_minor": 4
}
